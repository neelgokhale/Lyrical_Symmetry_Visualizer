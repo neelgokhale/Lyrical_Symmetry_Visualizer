{
 "cells": [
  {
   "cell_type": "markdown",
   "metadata": {},
   "source": [
    "# VOX Project: Visualizing Lyrical Symmertry"
   ]
  },
  {
   "cell_type": "markdown",
   "metadata": {},
   "source": [
    "## Imports and Set-up"
   ]
  },
  {
   "cell_type": "code",
   "execution_count": 443,
   "metadata": {},
   "outputs": [],
   "source": [
    "import re\n",
    "import string\n",
    "import numpy as np\n",
    "import matplotlib.pyplot as plt\n",
    "from matplotlib import cm\n",
    "from matplotlib.colors import ListedColormap, LinearSegmentedColormap\n",
    "import pandas as pd"
   ]
  },
  {
   "cell_type": "markdown",
   "metadata": {},
   "source": [
    "## Function Definations"
   ]
  },
  {
   "cell_type": "code",
   "execution_count": 444,
   "metadata": {},
   "outputs": [],
   "source": [
    "def extract_words(s):\n",
    "    return [re.sub('^[{0}]+|[{0}]+$'.format(string.punctuation), '', w) for w in s.split()]\n",
    "\n",
    "def diag(list1):\n",
    "    return 256*np.eye(len(list1), dtype=int)\n",
    "\n",
    "def unique_words(word_list):\n",
    "    unique_list = []\n",
    "    for i in word_list:\n",
    "        counter = 0\n",
    "        for j in word_list:\n",
    "            if i == j:\n",
    "                counter += 1\n",
    "        if counter == 1:\n",
    "            unique_list.append(i)\n",
    "    return unique_list\n",
    "\n",
    "def diff(list1, list2):\n",
    "    difference = [i for i in list1 + list2 if i not in list1 or i not in list2]\n",
    "    return difference\n",
    "\n",
    "def repeated_words(difference):\n",
    "    return list(set(difference))\n",
    "\n",
    "def find_index(list1, word):\n",
    "    index_num = []\n",
    "    for i in range(len(list1)):\n",
    "        if word == list1[i]:\n",
    "            index_num.append(i)\n",
    "    return index_num\n",
    "\n",
    "def repeat_index_dict(list1, rep_words):\n",
    "    dictionary = {}\n",
    "    for i in rep_words:\n",
    "        dictionary.update({i:find_index(list1, i)})\n",
    "    return dictionary\n"
   ]
  },
  {
   "cell_type": "markdown",
   "metadata": {},
   "source": [
    "## Reading Lyrics from File"
   ]
  },
  {
   "cell_type": "code",
   "execution_count": 445,
   "metadata": {},
   "outputs": [],
   "source": [
    "file = open(\"lyrics.txt\")\n",
    "input_string = file.read().replace(\"\\n\", \" \")\n",
    "file.close()\n",
    "\n",
    "input_string = input_string.lower()\n",
    "List = extract_words(input_string)"
   ]
  },
  {
   "cell_type": "markdown",
   "metadata": {},
   "source": [
    "## Building Lyrical Map"
   ]
  },
  {
   "cell_type": "code",
   "execution_count": 446,
   "metadata": {},
   "outputs": [],
   "source": [
    "A = diag(List)\n",
    "unique_list = unique_words(List)\n",
    "list_diff = diff(unique_list, List)\n",
    "rep_words = repeated_words(list_diff)\n",
    "repeat_index = repeat_index_dict(List, rep_words)\n",
    "repeat_dict = {}\n",
    "sorted_repeat_dict = {}\n",
    "C = np.random.randint(1, 256, size=len(rep_words))\n",
    "\n",
    "for i in rep_words:\n",
    "    repeat_dict.update({i:len(repeat_index[i])})\n",
    "\n",
    "sorted_words = sorted(repeat_dict.items(), key=lambda x: x[1], reverse=True)\n",
    "\n",
    "for i in sorted_words:\n",
    "    sorted_repeat_dict.update({i[0]:i[1]})\n",
    "\n",
    "for i in rep_words:\n",
    "    for j in repeat_index[i]:\n",
    "        for k in repeat_index[i]:\n",
    "            A[j][k] = C[rep_words.index(i)]\n"
   ]
  },
  {
   "cell_type": "markdown",
   "metadata": {},
   "source": [
    "## Defining Background and Unique Colors"
   ]
  },
  {
   "cell_type": "code",
   "execution_count": 447,
   "metadata": {},
   "outputs": [],
   "source": [
    "tab20 = cm.get_cmap('tab20', 255)\n",
    "newcolors = tab20(np.linspace(0, 1, 255))\n",
    "bg_color = np.array([0, 0, 0, 1])\n",
    "unique_color = np.array([1, 1, 1, 1])\n",
    "newcolors[:1, :] = bg_color\n",
    "newcolors[254:, :] = unique_color\n",
    "newcmp = ListedColormap(newcolors)"
   ]
  },
  {
   "cell_type": "markdown",
   "metadata": {},
   "source": [
    "## Plotting Color Map"
   ]
  },
  {
   "cell_type": "code",
   "execution_count": 448,
   "metadata": {},
   "outputs": [
    {
     "data": {
      "image/png": "[encoded data removed]",
      "text/plain": [
       "<Figure size 432x288 with 1 Axes>"
      ]
     },
     "metadata": {},
     "output_type": "display_data"
    }
   ],
   "source": [
    "plt.figure()\n",
    "plt.imshow(A, cmap=newcmp)\n",
    "plt.box(False)\n",
    "plt.xticks([])\n",
    "plt.yticks([])\n",
    "plt.savefig('visualization.png', dpi=1000)"
   ]
  },
  {
   "cell_type": "markdown",
   "metadata": {},
   "source": [
    "## Sorted Word Count"
   ]
  },
  {
   "cell_type": "code",
   "execution_count": 454,
   "metadata": {},
   "outputs": [
    {
     "data": {
      "text/html": [
       "<div>\n",
       "<style scoped>\n",
       "    .dataframe tbody tr th:only-of-type {\n",
       "        vertical-align: middle;\n",
       "    }\n",
       "\n",
       "    .dataframe tbody tr th {\n",
       "        vertical-align: top;\n",
       "    }\n",
       "\n",
       "    .dataframe thead th {\n",
       "        text-align: right;\n",
       "    }\n",
       "</style>\n",
       "<table border=\"1\" class=\"dataframe\">\n",
       "  <thead>\n",
       "    <tr style=\"text-align: right;\">\n",
       "      <th></th>\n",
       "      <th>Word</th>\n",
       "      <th>Count</th>\n",
       "    </tr>\n",
       "  </thead>\n",
       "  <tbody>\n",
       "    <tr>\n",
       "      <th>0</th>\n",
       "      <td>you</td>\n",
       "      <td>29</td>\n",
       "    </tr>\n",
       "    <tr>\n",
       "      <th>1</th>\n",
       "      <td>the</td>\n",
       "      <td>26</td>\n",
       "    </tr>\n",
       "    <tr>\n",
       "      <th>2</th>\n",
       "      <td>had</td>\n",
       "      <td>24</td>\n",
       "    </tr>\n",
       "    <tr>\n",
       "      <th>3</th>\n",
       "      <td>me</td>\n",
       "      <td>21</td>\n",
       "    </tr>\n",
       "    <tr>\n",
       "      <th>4</th>\n",
       "      <td>it</td>\n",
       "      <td>20</td>\n",
       "    </tr>\n",
       "    <tr>\n",
       "      <th>...</th>\n",
       "      <td>...</td>\n",
       "      <td>...</td>\n",
       "    </tr>\n",
       "    <tr>\n",
       "      <th>58</th>\n",
       "      <td>us</td>\n",
       "      <td>2</td>\n",
       "    </tr>\n",
       "    <tr>\n",
       "      <th>59</th>\n",
       "      <td>reaching</td>\n",
       "      <td>2</td>\n",
       "    </tr>\n",
       "    <tr>\n",
       "      <th>60</th>\n",
       "      <td>fever</td>\n",
       "      <td>2</td>\n",
       "    </tr>\n",
       "    <tr>\n",
       "      <th>61</th>\n",
       "      <td>breathless</td>\n",
       "      <td>2</td>\n",
       "    </tr>\n",
       "    <tr>\n",
       "      <th>62</th>\n",
       "      <td>keep</td>\n",
       "      <td>2</td>\n",
       "    </tr>\n",
       "  </tbody>\n",
       "</table>\n",
       "<p>63 rows × 2 columns</p>\n",
       "</div>"
      ],
      "text/plain": [
       "          Word  Count\n",
       "0          you     29\n",
       "1          the     26\n",
       "2          had     24\n",
       "3           me     21\n",
       "4           it     20\n",
       "..         ...    ...\n",
       "58          us      2\n",
       "59    reaching      2\n",
       "60       fever      2\n",
       "61  breathless      2\n",
       "62        keep      2\n",
       "\n",
       "[63 rows x 2 columns]"
      ]
     },
     "execution_count": 454,
     "metadata": {},
     "output_type": "execute_result"
    }
   ],
   "source": [
    "df_sorted = pd.DataFrame(sorted_repeat_dict.items(), columns=['Word', 'Count'])\n",
    "df_sorted"
   ]
  }
 ],
 "metadata": {
  "kernelspec": {
   "display_name": "Python 3",
   "language": "python",
   "name": "python3"
  },
  "language_info": {
   "codemirror_mode": {
    "name": "ipython",
    "version": 3
   },
   "file_extension": ".py",
   "mimetype": "text/x-python",
   "name": "python",
   "nbconvert_exporter": "python",
   "pygments_lexer": "ipython3",
   "version": "3.7.6"
  }
 },
 "nbformat": 4,
 "nbformat_minor": 4
}
